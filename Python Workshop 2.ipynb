{
 "metadata": {
  "name": "",
  "signature": "sha256:732884d935f1d6a09013006e26fcf51ef2681883f6433393a673a26d894d2345"
 },
 "nbformat": 3,
 "nbformat_minor": 0,
 "worksheets": [
  {
   "cells": [
    {
     "cell_type": "heading",
     "level": 1,
     "metadata": {},
     "source": [
      "Python Workshop"
     ]
    },
    {
     "cell_type": "heading",
     "level": 3,
     "metadata": {},
     "source": [
      "Agenda"
     ]
    },
    {
     "cell_type": "raw",
     "metadata": {},
     "source": [
      "- Obiektowo\u015b\u0107\n",
      "- Funkcje\n",
      "- Klasy\n",
      "- Paradygmaty programowania obiektowego\n",
      "- Operacje na plikach\n",
      "- Wyj\u0105tki\n",
      "- Menad\u017cery kontekstu\n",
      "- Testy jednostkowe"
     ]
    },
    {
     "cell_type": "heading",
     "level": 2,
     "metadata": {},
     "source": [
      "Obiektowo\u015b\u0107"
     ]
    },
    {
     "cell_type": "markdown",
     "metadata": {},
     "source": [
      "Przypomnijmy: <b>wszystko</b> w Pythonie jest obiektem!"
     ]
    },
    {
     "cell_type": "code",
     "collapsed": false,
     "input": [
      "dir(2)"
     ],
     "language": "python",
     "metadata": {},
     "outputs": [
      {
       "metadata": {},
       "output_type": "pyout",
       "prompt_number": 1,
       "text": [
        "['__abs__',\n",
        " '__add__',\n",
        " '__and__',\n",
        " '__class__',\n",
        " '__cmp__',\n",
        " '__coerce__',\n",
        " '__delattr__',\n",
        " '__div__',\n",
        " '__divmod__',\n",
        " '__doc__',\n",
        " '__float__',\n",
        " '__floordiv__',\n",
        " '__format__',\n",
        " '__getattribute__',\n",
        " '__getnewargs__',\n",
        " '__hash__',\n",
        " '__hex__',\n",
        " '__index__',\n",
        " '__init__',\n",
        " '__int__',\n",
        " '__invert__',\n",
        " '__long__',\n",
        " '__lshift__',\n",
        " '__mod__',\n",
        " '__mul__',\n",
        " '__neg__',\n",
        " '__new__',\n",
        " '__nonzero__',\n",
        " '__oct__',\n",
        " '__or__',\n",
        " '__pos__',\n",
        " '__pow__',\n",
        " '__radd__',\n",
        " '__rand__',\n",
        " '__rdiv__',\n",
        " '__rdivmod__',\n",
        " '__reduce__',\n",
        " '__reduce_ex__',\n",
        " '__repr__',\n",
        " '__rfloordiv__',\n",
        " '__rlshift__',\n",
        " '__rmod__',\n",
        " '__rmul__',\n",
        " '__ror__',\n",
        " '__rpow__',\n",
        " '__rrshift__',\n",
        " '__rshift__',\n",
        " '__rsub__',\n",
        " '__rtruediv__',\n",
        " '__rxor__',\n",
        " '__setattr__',\n",
        " '__sizeof__',\n",
        " '__str__',\n",
        " '__sub__',\n",
        " '__subclasshook__',\n",
        " '__truediv__',\n",
        " '__trunc__',\n",
        " '__xor__',\n",
        " 'bit_length',\n",
        " 'conjugate',\n",
        " 'denominator',\n",
        " 'imag',\n",
        " 'numerator',\n",
        " 'real']"
       ]
      }
     ],
     "prompt_number": 1
    },
    {
     "cell_type": "code",
     "collapsed": false,
     "input": [
      "(2).__add__(2)\n",
      "2 + 2\n",
      "print \"2 + 3 = \", 2 + 3"
     ],
     "language": "python",
     "metadata": {},
     "outputs": [
      {
       "output_type": "stream",
       "stream": "stdout",
       "text": [
        "2 + 3 =  5\n"
       ]
      }
     ],
     "prompt_number": 198
    },
    {
     "cell_type": "heading",
     "level": 2,
     "metadata": {},
     "source": [
      "Funkcje"
     ]
    },
    {
     "cell_type": "heading",
     "level": 3,
     "metadata": {},
     "source": [
      "Parametry funkcji"
     ]
    },
    {
     "cell_type": "code",
     "collapsed": false,
     "input": [
      "def add_numbers(num1, num2):\n",
      "    return num1 + num2\n",
      "\n",
      "print add_numbers(1, 2)"
     ],
     "language": "python",
     "metadata": {},
     "outputs": [
      {
       "output_type": "stream",
       "stream": "stdout",
       "text": [
        "3\n"
       ]
      }
     ],
     "prompt_number": 126
    },
    {
     "cell_type": "code",
     "collapsed": false,
     "input": [
      "def add_numbers(*numbers):\n",
      "    return sum([num for num in numbers])\n",
      "\n",
      "print \"1 + 2 = \", add_numbers(1, 2)\n",
      "print \"1 + 2 + 3 = \", add_numbers(1, 2, 3)\n",
      "print \"1 + 2 + 3 + 4 = \", add_numbers(1, 2, 3, 4)"
     ],
     "language": "python",
     "metadata": {},
     "outputs": [
      {
       "output_type": "stream",
       "stream": "stdout",
       "text": [
        "1 + 2 =  3\n",
        "1 + 2 + 3 =  6\n",
        "1 + 2 + 3 + 4 =  10\n"
       ]
      }
     ],
     "prompt_number": 127
    },
    {
     "cell_type": "code",
     "collapsed": false,
     "input": [
      "def multiple_params_test(param1, param2, *args, **kwargs):\n",
      "    print param1\n",
      "    print param2\n",
      "    print args\n",
      "    print kwargs\n",
      "    \n",
      "multiple_params_test(1, 2, 3, 4, 5, param3=3, param4=4)"
     ],
     "language": "python",
     "metadata": {},
     "outputs": [
      {
       "output_type": "stream",
       "stream": "stdout",
       "text": [
        "1\n",
        "2\n",
        "(3, 4, 5)\n",
        "{'param4': 4, 'param3': 3}\n"
       ]
      }
     ],
     "prompt_number": 129
    },
    {
     "cell_type": "heading",
     "level": 3,
     "metadata": {},
     "source": [
      "Domy\u015blne atrybuty funkcji"
     ]
    },
    {
     "cell_type": "code",
     "collapsed": false,
     "input": [
      "def add_numbers(a=0, b=0):\n",
      "    \"\"\"\n",
      "    Function add numbers\n",
      "    \"\"\"\n",
      "    return a + b\n",
      "\n",
      "print add_numbers()\n",
      "print add_numbers(2, 2)"
     ],
     "language": "python",
     "metadata": {},
     "outputs": [
      {
       "output_type": "stream",
       "stream": "stdout",
       "text": [
        "0\n",
        "4\n"
       ]
      }
     ],
     "prompt_number": 143
    },
    {
     "cell_type": "heading",
     "level": 4,
     "metadata": {},
     "source": [
      "Pu\u0142apki domy\u015blnych atrybut\u00f3w"
     ]
    },
    {
     "cell_type": "code",
     "collapsed": false,
     "input": [
      "def stupid_trap(item_to_add, awesome_list=[]):\n",
      "    awesome_list.append(item_to_add)\n",
      "    return awesome_list\n",
      "\n",
      "print stupid_trap(1)\n",
      "print stupid_trap(1)\n",
      "print stupid_trap(1)"
     ],
     "language": "python",
     "metadata": {},
     "outputs": [
      {
       "output_type": "stream",
       "stream": "stdout",
       "text": [
        "[1]\n",
        "[1, 1]\n",
        "[1, 1, 1]\n"
       ]
      }
     ],
     "prompt_number": 133
    },
    {
     "cell_type": "heading",
     "level": 4,
     "metadata": {},
     "source": [
      "Jak si\u0119 uchroni\u0107 przed takim b\u0142\u0119dem?"
     ]
    },
    {
     "cell_type": "code",
     "collapsed": false,
     "input": [
      "def fixed_trap(item_to_add, awesome_list=None):\n",
      "    if awesome_list is None:\n",
      "        awesome_list = []\n",
      "    awesome_list.append(item_to_add)\n",
      "    return awesome_list\n",
      "\n",
      "print fixed_trap(1)\n",
      "print fixed_trap(1)\n",
      "print fixed_trap(1)"
     ],
     "language": "python",
     "metadata": {},
     "outputs": [
      {
       "output_type": "stream",
       "stream": "stdout",
       "text": [
        "[1]\n",
        "[1]\n",
        "[1]\n"
       ]
      }
     ],
     "prompt_number": 140
    },
    {
     "cell_type": "heading",
     "level": 3,
     "metadata": {},
     "source": [
      "Funkcja jako obiekt"
     ]
    },
    {
     "cell_type": "code",
     "collapsed": false,
     "input": [
      "print type(add_numbers)\n",
      "print add_numbers\n",
      "print add_numbers.__name__\n",
      "print \"DOC \", add_numbers.__doc__\n",
      "print \"HELP \", help(add_numbers)\n",
      "print dir(add_numbers)"
     ],
     "language": "python",
     "metadata": {},
     "outputs": [
      {
       "output_type": "stream",
       "stream": "stdout",
       "text": [
        "<type 'function'>\n",
        "<function add_numbers at 0x032C26F0>\n",
        "add_numbers\n",
        "DOC  \n",
        "    Function add numbers\n",
        "    \n",
        "HELP Help on function add_numbers in module __main__:\n",
        "\n",
        "add_numbers(a=0, b=0)\n",
        "    Function add numbers\n",
        "\n",
        " None\n",
        "('aaaa', 'bbb')\n",
        "['__call__', '__class__', '__closure__', '__code__', '__defaults__', '__delattr__', '__dict__', '__doc__', '__format__', '__get__', '__getattribute__', '__globals__', '__hash__', '__init__', '__module__', '__name__', '__new__', '__reduce__', '__reduce_ex__', '__repr__', '__setattr__', '__sizeof__', '__str__', '__subclasshook__', 'func_closure', 'func_code', 'func_defaults', 'func_dict', 'func_doc', 'func_globals', 'func_name']\n"
       ]
      }
     ],
     "prompt_number": 151
    },
    {
     "cell_type": "code",
     "collapsed": false,
     "input": [
      "for i in range(10):\n",
      "    print i,"
     ],
     "language": "python",
     "metadata": {},
     "outputs": [
      {
       "output_type": "stream",
       "stream": "stdout",
       "text": [
        "0 1 2 3 4 5 6 7 8 9\n"
       ]
      }
     ],
     "prompt_number": 153
    },
    {
     "cell_type": "code",
     "collapsed": false,
     "input": [
      "def fn():\n",
      "    fn.counter += 1\n",
      "    return fn.counter\n",
      "\n",
      "fn.counter = 1\n",
      "\n",
      "print fn()\n",
      "print fn()\n",
      "print fn()"
     ],
     "language": "python",
     "metadata": {},
     "outputs": [
      {
       "output_type": "stream",
       "stream": "stdout",
       "text": [
        "2\n",
        "3\n",
        "4\n"
       ]
      }
     ],
     "prompt_number": 158
    },
    {
     "cell_type": "heading",
     "level": 2,
     "metadata": {},
     "source": [
      "Klasy"
     ]
    },
    {
     "cell_type": "heading",
     "level": 3,
     "metadata": {},
     "source": [
      "Przyk\u0142ad klasy"
     ]
    },
    {
     "cell_type": "code",
     "collapsed": false,
     "input": [
      "class A(object):\n",
      "    def __init__(self):\n",
      "        print \"A\"\n",
      "    def __init__(self):\n",
      "        print \"B\"\n",
      "\n",
      "a = A()\n",
      "        "
     ],
     "language": "python",
     "metadata": {},
     "outputs": [
      {
       "output_type": "stream",
       "stream": "stdout",
       "text": [
        "B\n"
       ]
      }
     ],
     "prompt_number": 160
    },
    {
     "cell_type": "code",
     "collapsed": false,
     "input": [
      "class Figure(object):\n",
      "    __slots__ = ['width', 'height']\n",
      "\n",
      "f = Figure()\n",
      "f.width = 10\n",
      "print f.width\n",
      "f.size = 10"
     ],
     "language": "python",
     "metadata": {},
     "outputs": [
      {
       "output_type": "stream",
       "stream": "stdout",
       "text": [
        "10\n"
       ]
      },
      {
       "ename": "AttributeError",
       "evalue": "'Figure' object has no attribute 'size'",
       "output_type": "pyerr",
       "traceback": [
        "\u001b[1;31m---------------------------------------------------------------------------\u001b[0m\n\u001b[1;31mAttributeError\u001b[0m                            Traceback (most recent call last)",
        "\u001b[1;32m<ipython-input-179-e443eb21287d>\u001b[0m in \u001b[0;36m<module>\u001b[1;34m()\u001b[0m\n\u001b[0;32m      5\u001b[0m \u001b[0mf\u001b[0m\u001b[1;33m.\u001b[0m\u001b[0mwidth\u001b[0m \u001b[1;33m=\u001b[0m \u001b[1;36m10\u001b[0m\u001b[1;33m\u001b[0m\u001b[0m\n\u001b[0;32m      6\u001b[0m \u001b[1;32mprint\u001b[0m \u001b[0mf\u001b[0m\u001b[1;33m.\u001b[0m\u001b[0mwidth\u001b[0m\u001b[1;33m\u001b[0m\u001b[0m\n\u001b[1;32m----> 7\u001b[1;33m \u001b[0mf\u001b[0m\u001b[1;33m.\u001b[0m\u001b[0msize\u001b[0m \u001b[1;33m=\u001b[0m \u001b[1;36m10\u001b[0m\u001b[1;33m\u001b[0m\u001b[0m\n\u001b[0m",
        "\u001b[1;31mAttributeError\u001b[0m: 'Figure' object has no attribute 'size'"
       ]
      }
     ],
     "prompt_number": 179
    },
    {
     "cell_type": "code",
     "collapsed": false,
     "input": [
      "class NokiaEmployee(object):\n",
      "    static_counter = 0\n",
      "    \n",
      "    def __init__(self, name, surname):\n",
      "        self.name = name\n",
      "        self.surname = surname\n",
      "        self.salary = 1500\n",
      "        self.__job_grade = 1\n",
      "        NokiaEmployee.static_counter += 1\n",
      "    \n",
      "    def get_name(self):\n",
      "        return self.name\n",
      "    \n",
      "    def get_salary(self):\n",
      "        return self.salary\n",
      "    \n",
      "    def __str__(self):\n",
      "        return \"{0.name}{0.surname} get {0.salary} PLN\".format(self)\n",
      "    \n",
      "    @classmethod\n",
      "    def get_counter(cls):\n",
      "        return cls.static_counter\n",
      "    \n",
      "  \n",
      "employee = NokiaEmployee('Lucky', 'Boy')\n",
      "employee.name = \"a\"\n",
      "employee.surname = \"b\"\n",
      "employee.nazwisko = \"nazwisko\"\n",
      "\n",
      "print employee.nazwisko\n",
      "\n",
      "print employee.get_name()\n",
      "print employee.get_salary()\n",
      "print employee\n",
      "print employee.get_counter()\n",
      "print NokiaEmployee.get_counter()\n",
      "#print NokiaEmployee('Sad', 'Boy').get_counter()"
     ],
     "language": "python",
     "metadata": {},
     "outputs": [
      {
       "output_type": "stream",
       "stream": "stdout",
       "text": [
        "nazwisko\n",
        "a\n",
        "1500\n",
        "ab get 1500 PLN\n",
        "1\n",
        "1\n"
       ]
      }
     ],
     "prompt_number": 175
    },
    {
     "cell_type": "heading",
     "level": 3,
     "metadata": {},
     "source": [
      "Atrybuty tylko do odczytu (zdradliwa ochrona)"
     ]
    },
    {
     "cell_type": "code",
     "collapsed": false,
     "input": [
      "class NokiaEmployee(object):\n",
      "    def __init__(self):\n",
      "        self.__salary = 1500\n",
      "    def get_salary(self):\n",
      "        print \"salary: \", self.__salary\n",
      "    \n",
      "ne = NokiaEmployee()\n",
      "ne.get_salary()"
     ],
     "language": "python",
     "metadata": {},
     "outputs": [
      {
       "output_type": "stream",
       "stream": "stdout",
       "text": [
        "salary:  1500\n"
       ]
      }
     ],
     "prompt_number": 169
    },
    {
     "cell_type": "heading",
     "level": 5,
     "metadata": {},
     "source": [
      "Jak dosta\u0107 si\u0119 do zmiennej \"prywatnej\" ?"
     ]
    },
    {
     "cell_type": "code",
     "collapsed": false,
     "input": [
      "ne.__salary"
     ],
     "language": "python",
     "metadata": {},
     "outputs": [
      {
       "ename": "AttributeError",
       "evalue": "'NokiaEmployee' object has no attribute '__salary'",
       "output_type": "pyerr",
       "traceback": [
        "\u001b[1;31m---------------------------------------------------------------------------\u001b[0m\n\u001b[1;31mAttributeError\u001b[0m                            Traceback (most recent call last)",
        "\u001b[1;32m<ipython-input-64-4d858a0f5b27>\u001b[0m in \u001b[0;36m<module>\u001b[1;34m()\u001b[0m\n\u001b[1;32m----> 1\u001b[1;33m \u001b[0mne\u001b[0m\u001b[1;33m.\u001b[0m\u001b[0m__salary\u001b[0m\u001b[1;33m\u001b[0m\u001b[0m\n\u001b[0m",
        "\u001b[1;31mAttributeError\u001b[0m: 'NokiaEmployee' object has no attribute '__salary'"
       ]
      }
     ],
     "prompt_number": 64
    },
    {
     "cell_type": "heading",
     "level": 5,
     "metadata": {},
     "source": [
      "Rozwi\u0105zanie jest bardzo proste ..."
     ]
    },
    {
     "cell_type": "code",
     "collapsed": false,
     "input": [
      "dir(ne)"
     ],
     "language": "python",
     "metadata": {},
     "outputs": [
      {
       "metadata": {},
       "output_type": "pyout",
       "prompt_number": 65,
       "text": [
        "['_NokiaEmployee__salary',\n",
        " '__class__',\n",
        " '__delattr__',\n",
        " '__dict__',\n",
        " '__doc__',\n",
        " '__format__',\n",
        " '__getattribute__',\n",
        " '__hash__',\n",
        " '__init__',\n",
        " '__module__',\n",
        " '__new__',\n",
        " '__reduce__',\n",
        " '__reduce_ex__',\n",
        " '__repr__',\n",
        " '__setattr__',\n",
        " '__sizeof__',\n",
        " '__str__',\n",
        " '__subclasshook__',\n",
        " '__weakref__',\n",
        " 'get_salary']"
       ]
      }
     ],
     "prompt_number": 65
    },
    {
     "cell_type": "code",
     "collapsed": false,
     "input": [
      "ne._NokiaEmployee__salary"
     ],
     "language": "python",
     "metadata": {},
     "outputs": [
      {
       "metadata": {},
       "output_type": "pyout",
       "prompt_number": 66,
       "text": [
        "1500"
       ]
      }
     ],
     "prompt_number": 66
    },
    {
     "cell_type": "heading",
     "level": 3,
     "metadata": {},
     "source": [
      "Properties"
     ]
    },
    {
     "cell_type": "markdown",
     "metadata": {},
     "source": [
      "Odrobina prywatno\u015bci za pomoc\u0105 metod dost\u0119pu"
     ]
    },
    {
     "cell_type": "code",
     "collapsed": false,
     "input": [
      "class NokiaEmployee(object):\n",
      "    def __init__(self):\n",
      "        self.__salary = 1500\n",
      "    def __get_salary(self):\n",
      "        return self.__salary\n",
      "    \n",
      "    salary = property(__get_salary)\n",
      "    \n",
      "ne = NokiaEmployee()\n",
      "print ne.salary\n",
      "ne.salary = 1600"
     ],
     "language": "python",
     "metadata": {},
     "outputs": [
      {
       "output_type": "stream",
       "stream": "stdout",
       "text": [
        "1500\n"
       ]
      },
      {
       "ename": "AttributeError",
       "evalue": "can't set attribute",
       "output_type": "pyerr",
       "traceback": [
        "\u001b[1;31m---------------------------------------------------------------------------\u001b[0m\n\u001b[1;31mAttributeError\u001b[0m                            Traceback (most recent call last)",
        "\u001b[1;32m<ipython-input-180-ad13a57aa277>\u001b[0m in \u001b[0;36m<module>\u001b[1;34m()\u001b[0m\n\u001b[0;32m      9\u001b[0m \u001b[0mne\u001b[0m \u001b[1;33m=\u001b[0m \u001b[0mNokiaEmployee\u001b[0m\u001b[1;33m(\u001b[0m\u001b[1;33m)\u001b[0m\u001b[1;33m\u001b[0m\u001b[0m\n\u001b[0;32m     10\u001b[0m \u001b[1;32mprint\u001b[0m \u001b[0mne\u001b[0m\u001b[1;33m.\u001b[0m\u001b[0msalary\u001b[0m\u001b[1;33m\u001b[0m\u001b[0m\n\u001b[1;32m---> 11\u001b[1;33m \u001b[0mne\u001b[0m\u001b[1;33m.\u001b[0m\u001b[0msalary\u001b[0m \u001b[1;33m=\u001b[0m \u001b[1;36m1600\u001b[0m\u001b[1;33m\u001b[0m\u001b[0m\n\u001b[0m",
        "\u001b[1;31mAttributeError\u001b[0m: can't set attribute"
       ]
      }
     ],
     "prompt_number": 180
    },
    {
     "cell_type": "heading",
     "level": 3,
     "metadata": {},
     "source": [
      "Wywo\u0142ywanie instancji"
     ]
    },
    {
     "cell_type": "code",
     "collapsed": false,
     "input": [
      "class RandomNumber(object):\n",
      "    def __call__(self, random_number):\n",
      "        return random_number\n",
      "    \n",
      "rn = RandomNumber()\n",
      "print rn(4)\n",
      "print rn(6)"
     ],
     "language": "python",
     "metadata": {},
     "outputs": [
      {
       "output_type": "stream",
       "stream": "stdout",
       "text": [
        "5\n",
        "6\n"
       ]
      }
     ],
     "prompt_number": 71
    },
    {
     "cell_type": "heading",
     "level": 3,
     "metadata": {},
     "source": [
      "Dziedziczenie"
     ]
    },
    {
     "cell_type": "code",
     "collapsed": false,
     "input": [
      "class Base(object):\n",
      "    def __init__(self):\n",
      "        self.b = \"b\"\n",
      "        print \"Base\"\n",
      "    def get_base(self, a):\n",
      "        print \"base \", self.b\n",
      "class A(Base):\n",
      "    pass\n",
      "    \"\"\"\n",
      "    def __init__(self):\n",
      "        Base.__init__(self)\n",
      "        print \"A\"\n",
      "    \"\"\"\n",
      "        \n",
      "a = A()\n",
      "#a.get_base('b')"
     ],
     "language": "python",
     "metadata": {},
     "outputs": [
      {
       "output_type": "stream",
       "stream": "stdout",
       "text": [
        "Base\n"
       ]
      }
     ],
     "prompt_number": 192
    },
    {
     "cell_type": "code",
     "collapsed": false,
     "input": [
      "class Pet(object):\n",
      "    def __init__(self, name, species):\n",
      "        self.name = name\n",
      "        self.species = species \n",
      "    def get_name(self):\n",
      "        return self.name\n",
      "    def get_species(self):\n",
      "        return self.species\n",
      "    \n",
      "class Dog(Pet):\n",
      "    def __init__(self, name, hates_cat=True):\n",
      "        Pet.__init__(self, name, 'Dog')\n",
      "        #super(Dog, self).__init__(name, 'Dog')\n",
      "        #super(, self).__init__(name, 'Dog')\n",
      "        self.hates_cat = hates_cat\n",
      "    def hates_cat(self):\n",
      "        return self.hates_cat\n",
      "    def get_species(self):\n",
      "        return 'Doggggg'\n",
      "    \n",
      "pet = Pet('Mister', 'Cat')\n",
      "print pet.get_species()\n",
      "\n",
      "dog = Dog('Mister', hates_cat=True)\n",
      "print dog.get_species()"
     ],
     "language": "python",
     "metadata": {},
     "outputs": [
      {
       "output_type": "stream",
       "stream": "stdout",
       "text": [
        "Cat\n",
        "Doggggg\n"
       ]
      }
     ],
     "prompt_number": 185
    },
    {
     "cell_type": "heading",
     "level": 2,
     "metadata": {},
     "source": [
      "Operacje na plikach"
     ]
    },
    {
     "cell_type": "code",
     "collapsed": false,
     "input": [
      "! echo \"some text in file\" > myfile.txt\n",
      "\n",
      "file_handler = open('myfile.txt', 'w')\n",
      "print file_handler.read()\n",
      "file_handler.close()"
     ],
     "language": "python",
     "metadata": {},
     "outputs": [
      {
       "output_type": "stream",
       "stream": "stdout",
       "text": [
        "\"some text in file\" \n",
        "\n"
       ]
      }
     ],
     "prompt_number": 103
    },
    {
     "cell_type": "heading",
     "level": 5,
     "metadata": {},
     "source": [
      "Dobra praktyka - otwieraj pliki z \"with\""
     ]
    },
    {
     "cell_type": "code",
     "collapsed": false,
     "input": [
      "with open('tempfile') as file_handler:\n",
      "    print file_handler.read()\n",
      "    "
     ],
     "language": "python",
     "metadata": {},
     "outputs": [
      {
       "output_type": "stream",
       "stream": "stdout",
       "text": [
        "\"some text in file\" \n",
        "\n"
       ]
      }
     ],
     "prompt_number": 104
    },
    {
     "cell_type": "heading",
     "level": 2,
     "metadata": {},
     "source": [
      "Wyj\u0105tki"
     ]
    },
    {
     "cell_type": "markdown",
     "metadata": {},
     "source": [
      "https://docs.python.org/2/tutorial/errors.html"
     ]
    },
    {
     "cell_type": "code",
     "collapsed": false,
     "input": [
      "d = {'key1': 1, 'key2': 2}\n",
      "d.get('key3', None)\n",
      "d['key3']"
     ],
     "language": "python",
     "metadata": {},
     "outputs": [
      {
       "ename": "KeyError",
       "evalue": "'key3'",
       "output_type": "pyerr",
       "traceback": [
        "\u001b[1;31m---------------------------------------------------------------------------\u001b[0m\n\u001b[1;31mKeyError\u001b[0m                                  Traceback (most recent call last)",
        "\u001b[1;32m<ipython-input-79-881ae726d767>\u001b[0m in \u001b[0;36m<module>\u001b[1;34m()\u001b[0m\n\u001b[0;32m      1\u001b[0m \u001b[0md\u001b[0m \u001b[1;33m=\u001b[0m \u001b[1;33m{\u001b[0m\u001b[1;34m'key1'\u001b[0m\u001b[1;33m:\u001b[0m \u001b[1;36m1\u001b[0m\u001b[1;33m,\u001b[0m \u001b[1;34m'key2'\u001b[0m\u001b[1;33m:\u001b[0m \u001b[1;36m2\u001b[0m\u001b[1;33m}\u001b[0m\u001b[1;33m\u001b[0m\u001b[0m\n\u001b[1;32m----> 2\u001b[1;33m \u001b[0md\u001b[0m\u001b[1;33m[\u001b[0m\u001b[1;34m'key3'\u001b[0m\u001b[1;33m]\u001b[0m\u001b[1;33m\u001b[0m\u001b[0m\n\u001b[0m",
        "\u001b[1;31mKeyError\u001b[0m: 'key3'"
       ]
      }
     ],
     "prompt_number": 79
    },
    {
     "cell_type": "code",
     "collapsed": false,
     "input": [
      "try:\n",
      "    d['key3']\n",
      "except KeyError as e:\n",
      "    print \"Error found do something\""
     ],
     "language": "python",
     "metadata": {},
     "outputs": [
      {
       "output_type": "stream",
       "stream": "stdout",
       "text": [
        "Error found do something\n"
       ]
      }
     ],
     "prompt_number": 194
    },
    {
     "cell_type": "code",
     "collapsed": false,
     "input": [
      "import sys\n",
      "\n",
      "try:\n",
      "    f = open('myfile.txt')\n",
      "    s = f.readline()\n",
      "    i = int(s.strip())\n",
      "except IOError as e:\n",
      "    print \"I/O error({0}): {1}\".format(e.errno, e.strerror)\n",
      "except ValueError:\n",
      "    print \"Could not convert data to an integer.\"\n",
      "except:\n",
      "    print \"Unexpected error:\", sys.exc_info()[0]\n",
      "else:\n",
      "    print \"code that must be executed if the try clause does not raise an exception\"\n",
      "    \n",
      "finally:\n",
      "    print \"Invoke finally section\"\n",
      "    \n",
      "    f.close()\n",
      "    "
     ],
     "language": "python",
     "metadata": {},
     "outputs": [
      {
       "output_type": "stream",
       "stream": "stdout",
       "text": [
        "I/O error(2): No such file or directory\n",
        "Invoke finally section\n"
       ]
      }
     ],
     "prompt_number": 110
    },
    {
     "cell_type": "heading",
     "level": 2,
     "metadata": {},
     "source": [
      "Menad\u017cery kontekstu"
     ]
    },
    {
     "cell_type": "code",
     "collapsed": false,
     "input": [
      "set things up\n",
      "try:\n",
      "    do something\n",
      "finally:\n",
      "    tear things down"
     ],
     "language": "python",
     "metadata": {},
     "outputs": [],
     "prompt_number": 111
    },
    {
     "cell_type": "code",
     "collapsed": false,
     "input": [
      "class controlled_execution(object):\n",
      "\n",
      "    def __enter__(self):\n",
      "        self.f = open('aaa')\n",
      "        return f\n",
      "    def __exit__(self, type, value, traceback):\n",
      "        self.f.close()\n",
      "\n",
      "with controlled_execution() as thing:\n",
      "    some code"
     ],
     "language": "python",
     "metadata": {},
     "outputs": []
    },
    {
     "cell_type": "heading",
     "level": 2,
     "metadata": {},
     "source": [
      "Testowanie kodu Pythona - testy jednostkowe"
     ]
    },
    {
     "cell_type": "markdown",
     "metadata": {},
     "source": [
      "TDD \u2013 Test Driven Development \n",
      "\n",
      "- Add a test\n",
      "- Run all tests and see if the new one fails\n",
      "- Write some code\n",
      "- Run tests\n",
      "- Refactor code\n",
      "- Repeat\n"
     ]
    },
    {
     "cell_type": "markdown",
     "metadata": {},
     "source": [
      "Unittest library\n",
      "Python -m unittest discover\n",
      "NOSE\n",
      "Doctest\n",
      "Functions\n",
      "    - assertEqual\n",
      "    - assertTrue\n",
      "    - assertIn\n",
      "    - assertIsInstance\n",
      "    - assertRaises\n"
     ]
    },
    {
     "cell_type": "markdown",
     "metadata": {},
     "source": [
      "https://docs.python.org/2/library/unittest.html"
     ]
    },
    {
     "cell_type": "code",
     "collapsed": false,
     "input": [
      "import random\n",
      "import unittest\n",
      "\n",
      "class TestSequenceFunctions(unittest.TestCase):\n",
      "\n",
      "    def setUp(self):\n",
      "        self.seq = range(10)\n",
      "\n",
      "    def test_shuffle(self):\n",
      "        # make sure the shuffled sequence does not lose any elements\n",
      "        random.shuffle(self.seq)\n",
      "        self.seq.sort()\n",
      "        self.assertEqual(self.seq, range(10))\n",
      "\n",
      "        # should raise an exception for an immutable sequence\n",
      "        self.assertRaises(TypeError, random.shuffle, (1,2,3))\n",
      "\n",
      "    def test_choice(self):\n",
      "        element = random.choice(self.seq)\n",
      "        self.assertIn(element, self.seq)\n",
      "\n",
      "    def test_sample(self):\n",
      "        with self.assertRaises(ValueError):\n",
      "            random.sample(self.seq, 20)\n",
      "        for element in random.sample(self.seq, 5):\n",
      "            self.assertIn(element, self.seq)\n",
      "\n",
      "if __name__ == '__main__':\n",
      "    pass\n",
      "    #unittest.main()\n"
     ],
     "language": "python",
     "metadata": {},
     "outputs": [],
     "prompt_number": 114
    }
   ],
   "metadata": {}
  }
 ]
}